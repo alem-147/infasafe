{
 "cells": [
  {
   "cell_type": "code",
   "execution_count": 2,
   "id": "1b7faacf-76a5-40e1-a29c-461714de7267",
   "metadata": {
    "tags": []
   },
   "outputs": [],
   "source": [
    "import pandas as pd\n",
    "from sklearn.model_selection import train_test_split"
   ]
  },
  {
   "cell_type": "code",
   "execution_count": 3,
   "id": "c3947f6d-3958-417f-813e-9bd60315ee97",
   "metadata": {
    "tags": []
   },
   "outputs": [
    {
     "data": {
      "text/html": [
       "<div>\n",
       "<style scoped>\n",
       "    .dataframe tbody tr th:only-of-type {\n",
       "        vertical-align: middle;\n",
       "    }\n",
       "\n",
       "    .dataframe tbody tr th {\n",
       "        vertical-align: top;\n",
       "    }\n",
       "\n",
       "    .dataframe thead th {\n",
       "        text-align: right;\n",
       "    }\n",
       "</style>\n",
       "<table border=\"1\" class=\"dataframe\">\n",
       "  <thead>\n",
       "    <tr style=\"text-align: right;\">\n",
       "      <th></th>\n",
       "      <th>filename</th>\n",
       "      <th>classification</th>\n",
       "      <th>MFCC_1</th>\n",
       "      <th>MFCC_2</th>\n",
       "      <th>MFCC_3</th>\n",
       "      <th>MFCC_4</th>\n",
       "      <th>MFCC_5</th>\n",
       "      <th>MFCC_6</th>\n",
       "      <th>MFCC_7</th>\n",
       "      <th>MFCC_8</th>\n",
       "      <th>MFCC_9</th>\n",
       "      <th>MFCC_10</th>\n",
       "    </tr>\n",
       "  </thead>\n",
       "  <tbody>\n",
       "    <tr>\n",
       "      <th>0</th>\n",
       "      <td>10A40438-09AA-4A21-83B4-8119F03F7A11-143092514...</td>\n",
       "      <td>discomfort</td>\n",
       "      <td>-243.04227</td>\n",
       "      <td>147.07898</td>\n",
       "      <td>-74.544870</td>\n",
       "      <td>-11.935883</td>\n",
       "      <td>0.091409</td>\n",
       "      <td>-44.496130</td>\n",
       "      <td>1.685033</td>\n",
       "      <td>1.311653</td>\n",
       "      <td>-24.178078</td>\n",
       "      <td>3.441578</td>\n",
       "    </tr>\n",
       "    <tr>\n",
       "      <th>1</th>\n",
       "      <td>d6cda191-4962-4308-9a36-46d5648a95ed-143108626...</td>\n",
       "      <td>discomfort</td>\n",
       "      <td>-337.19736</td>\n",
       "      <td>116.16574</td>\n",
       "      <td>-107.521190</td>\n",
       "      <td>-16.738218</td>\n",
       "      <td>15.354076</td>\n",
       "      <td>-40.475506</td>\n",
       "      <td>7.085871</td>\n",
       "      <td>17.918938</td>\n",
       "      <td>-23.558468</td>\n",
       "      <td>-0.820606</td>\n",
       "    </tr>\n",
       "    <tr>\n",
       "      <th>2</th>\n",
       "      <td>7b0e160e-0505-459e-8ecb-304d7afae9d2-143748697...</td>\n",
       "      <td>discomfort</td>\n",
       "      <td>-340.15400</td>\n",
       "      <td>188.38403</td>\n",
       "      <td>-10.891422</td>\n",
       "      <td>9.568656</td>\n",
       "      <td>21.079254</td>\n",
       "      <td>-22.424560</td>\n",
       "      <td>-1.612709</td>\n",
       "      <td>6.264339</td>\n",
       "      <td>-13.773880</td>\n",
       "      <td>5.847576</td>\n",
       "    </tr>\n",
       "    <tr>\n",
       "      <th>3</th>\n",
       "      <td>1309B82C-F146-46F0-A723-45345AFA6EA8-143280169...</td>\n",
       "      <td>discomfort</td>\n",
       "      <td>-276.37875</td>\n",
       "      <td>155.99452</td>\n",
       "      <td>-78.463280</td>\n",
       "      <td>-4.101474</td>\n",
       "      <td>3.821284</td>\n",
       "      <td>-55.568825</td>\n",
       "      <td>0.179907</td>\n",
       "      <td>10.941260</td>\n",
       "      <td>-24.056501</td>\n",
       "      <td>-0.227951</td>\n",
       "    </tr>\n",
       "    <tr>\n",
       "      <th>4</th>\n",
       "      <td>999bf14b-e417-4b44-b746-9253f81efe38-143084501...</td>\n",
       "      <td>discomfort</td>\n",
       "      <td>-438.81970</td>\n",
       "      <td>139.43356</td>\n",
       "      <td>-4.925777</td>\n",
       "      <td>-31.982075</td>\n",
       "      <td>3.686297</td>\n",
       "      <td>8.685968</td>\n",
       "      <td>-4.593336</td>\n",
       "      <td>-10.453959</td>\n",
       "      <td>-9.564993</td>\n",
       "      <td>-2.140277</td>\n",
       "    </tr>\n",
       "  </tbody>\n",
       "</table>\n",
       "</div>"
      ],
      "text/plain": [
       "                                            filename classification  \\\n",
       "0  10A40438-09AA-4A21-83B4-8119F03F7A11-143092514...     discomfort   \n",
       "1  d6cda191-4962-4308-9a36-46d5648a95ed-143108626...     discomfort   \n",
       "2  7b0e160e-0505-459e-8ecb-304d7afae9d2-143748697...     discomfort   \n",
       "3  1309B82C-F146-46F0-A723-45345AFA6EA8-143280169...     discomfort   \n",
       "4  999bf14b-e417-4b44-b746-9253f81efe38-143084501...     discomfort   \n",
       "\n",
       "      MFCC_1     MFCC_2      MFCC_3     MFCC_4     MFCC_5     MFCC_6  \\\n",
       "0 -243.04227  147.07898  -74.544870 -11.935883   0.091409 -44.496130   \n",
       "1 -337.19736  116.16574 -107.521190 -16.738218  15.354076 -40.475506   \n",
       "2 -340.15400  188.38403  -10.891422   9.568656  21.079254 -22.424560   \n",
       "3 -276.37875  155.99452  -78.463280  -4.101474   3.821284 -55.568825   \n",
       "4 -438.81970  139.43356   -4.925777 -31.982075   3.686297   8.685968   \n",
       "\n",
       "     MFCC_7     MFCC_8     MFCC_9   MFCC_10  \n",
       "0  1.685033   1.311653 -24.178078  3.441578  \n",
       "1  7.085871  17.918938 -23.558468 -0.820606  \n",
       "2 -1.612709   6.264339 -13.773880  5.847576  \n",
       "3  0.179907  10.941260 -24.056501 -0.227951  \n",
       "4 -4.593336 -10.453959  -9.564993 -2.140277  "
      ]
     },
     "execution_count": 3,
     "metadata": {},
     "output_type": "execute_result"
    }
   ],
   "source": [
    "# too many hungry instances. Limit to 120 rows\n",
    "cries_dataset = pd.read_csv('cries.csv',nrows=120)\n",
    "cries_dataset.head()"
   ]
  },
  {
   "cell_type": "code",
   "execution_count": 4,
   "id": "5f685963-1f72-400c-a6ec-7d0412a28e5f",
   "metadata": {
    "tags": []
   },
   "outputs": [],
   "source": [
    "# Assuming you have a DataFrame 'df' with your dataset, where 'X' contains features and 'y' contains labels/targets\n",
    "\n",
    "# Split the DataFrame into features (X) and labels (y)\n",
    "X = cries_dataset[[f\"MFCC_{i}\" for i in range(1,11)]] # Replace 'TargetColumnName' with the actual name of your target column\n",
    "y = cries_dataset['classification']\n",
    "\n",
    "# Split the dataset into training and testing sets (e.g., 80% train, 20% test)\n",
    "X_train, X_test, y_train, y_test = train_test_split(X, y, test_size=0.1, random_state=42)\n",
    "\n",
    "# The 'test_size' parameter specifies the proportion of the dataset to include in the test split.\n",
    "# 'random_state' is used for reproducibility; you can set it to any integer to get consistent splits.\n",
    "\n",
    "# Now you have X_train, X_test, y_train, and y_test for training and testing your machine learning model.\n"
   ]
  },
  {
   "cell_type": "code",
   "execution_count": 7,
   "id": "52431ae8-204d-4e47-9ffd-4b4c52124022",
   "metadata": {
    "tags": []
   },
   "outputs": [
    {
     "data": {
      "text/html": [
       "<div>\n",
       "<style scoped>\n",
       "    .dataframe tbody tr th:only-of-type {\n",
       "        vertical-align: middle;\n",
       "    }\n",
       "\n",
       "    .dataframe tbody tr th {\n",
       "        vertical-align: top;\n",
       "    }\n",
       "\n",
       "    .dataframe thead th {\n",
       "        text-align: right;\n",
       "    }\n",
       "</style>\n",
       "<table border=\"1\" class=\"dataframe\">\n",
       "  <thead>\n",
       "    <tr style=\"text-align: right;\">\n",
       "      <th></th>\n",
       "      <th>MFCC_1</th>\n",
       "      <th>MFCC_2</th>\n",
       "      <th>MFCC_3</th>\n",
       "      <th>MFCC_4</th>\n",
       "      <th>MFCC_5</th>\n",
       "      <th>MFCC_6</th>\n",
       "      <th>MFCC_7</th>\n",
       "      <th>MFCC_8</th>\n",
       "      <th>MFCC_9</th>\n",
       "      <th>MFCC_10</th>\n",
       "    </tr>\n",
       "  </thead>\n",
       "  <tbody>\n",
       "    <tr>\n",
       "      <th>0</th>\n",
       "      <td>-243.04227</td>\n",
       "      <td>147.07898</td>\n",
       "      <td>-74.544870</td>\n",
       "      <td>-11.935883</td>\n",
       "      <td>0.091409</td>\n",
       "      <td>-44.496130</td>\n",
       "      <td>1.685033</td>\n",
       "      <td>1.311653</td>\n",
       "      <td>-24.178078</td>\n",
       "      <td>3.441578</td>\n",
       "    </tr>\n",
       "    <tr>\n",
       "      <th>1</th>\n",
       "      <td>-337.19736</td>\n",
       "      <td>116.16574</td>\n",
       "      <td>-107.521190</td>\n",
       "      <td>-16.738218</td>\n",
       "      <td>15.354076</td>\n",
       "      <td>-40.475506</td>\n",
       "      <td>7.085871</td>\n",
       "      <td>17.918938</td>\n",
       "      <td>-23.558468</td>\n",
       "      <td>-0.820606</td>\n",
       "    </tr>\n",
       "    <tr>\n",
       "      <th>2</th>\n",
       "      <td>-340.15400</td>\n",
       "      <td>188.38403</td>\n",
       "      <td>-10.891422</td>\n",
       "      <td>9.568656</td>\n",
       "      <td>21.079254</td>\n",
       "      <td>-22.424560</td>\n",
       "      <td>-1.612709</td>\n",
       "      <td>6.264339</td>\n",
       "      <td>-13.773880</td>\n",
       "      <td>5.847576</td>\n",
       "    </tr>\n",
       "    <tr>\n",
       "      <th>3</th>\n",
       "      <td>-276.37875</td>\n",
       "      <td>155.99452</td>\n",
       "      <td>-78.463280</td>\n",
       "      <td>-4.101474</td>\n",
       "      <td>3.821284</td>\n",
       "      <td>-55.568825</td>\n",
       "      <td>0.179907</td>\n",
       "      <td>10.941260</td>\n",
       "      <td>-24.056501</td>\n",
       "      <td>-0.227951</td>\n",
       "    </tr>\n",
       "    <tr>\n",
       "      <th>4</th>\n",
       "      <td>-438.81970</td>\n",
       "      <td>139.43356</td>\n",
       "      <td>-4.925777</td>\n",
       "      <td>-31.982075</td>\n",
       "      <td>3.686297</td>\n",
       "      <td>8.685968</td>\n",
       "      <td>-4.593336</td>\n",
       "      <td>-10.453959</td>\n",
       "      <td>-9.564993</td>\n",
       "      <td>-2.140277</td>\n",
       "    </tr>\n",
       "  </tbody>\n",
       "</table>\n",
       "</div>"
      ],
      "text/plain": [
       "      MFCC_1     MFCC_2      MFCC_3     MFCC_4     MFCC_5     MFCC_6  \\\n",
       "0 -243.04227  147.07898  -74.544870 -11.935883   0.091409 -44.496130   \n",
       "1 -337.19736  116.16574 -107.521190 -16.738218  15.354076 -40.475506   \n",
       "2 -340.15400  188.38403  -10.891422   9.568656  21.079254 -22.424560   \n",
       "3 -276.37875  155.99452  -78.463280  -4.101474   3.821284 -55.568825   \n",
       "4 -438.81970  139.43356   -4.925777 -31.982075   3.686297   8.685968   \n",
       "\n",
       "     MFCC_7     MFCC_8     MFCC_9   MFCC_10  \n",
       "0  1.685033   1.311653 -24.178078  3.441578  \n",
       "1  7.085871  17.918938 -23.558468 -0.820606  \n",
       "2 -1.612709   6.264339 -13.773880  5.847576  \n",
       "3  0.179907  10.941260 -24.056501 -0.227951  \n",
       "4 -4.593336 -10.453959  -9.564993 -2.140277  "
      ]
     },
     "execution_count": 7,
     "metadata": {},
     "output_type": "execute_result"
    }
   ],
   "source": [
    "X.head()"
   ]
  },
  {
   "cell_type": "code",
   "execution_count": 8,
   "id": "5afe66c7-b1e5-41ed-ad3e-68da92be9e45",
   "metadata": {
    "tags": []
   },
   "outputs": [
    {
     "data": {
      "text/plain": [
       "0    discomfort\n",
       "1    discomfort\n",
       "2    discomfort\n",
       "3    discomfort\n",
       "4    discomfort\n",
       "Name: classification, dtype: object"
      ]
     },
     "execution_count": 8,
     "metadata": {},
     "output_type": "execute_result"
    }
   ],
   "source": [
    "y.head()"
   ]
  },
  {
   "cell_type": "code",
   "execution_count": 5,
   "id": "5285d304-1e6d-4331-9e1d-10be36311ef9",
   "metadata": {
    "tags": []
   },
   "outputs": [
    {
     "data": {
      "text/html": [
       "<style>#sk-container-id-1 {color: black;}#sk-container-id-1 pre{padding: 0;}#sk-container-id-1 div.sk-toggleable {background-color: white;}#sk-container-id-1 label.sk-toggleable__label {cursor: pointer;display: block;width: 100%;margin-bottom: 0;padding: 0.3em;box-sizing: border-box;text-align: center;}#sk-container-id-1 label.sk-toggleable__label-arrow:before {content: \"▸\";float: left;margin-right: 0.25em;color: #696969;}#sk-container-id-1 label.sk-toggleable__label-arrow:hover:before {color: black;}#sk-container-id-1 div.sk-estimator:hover label.sk-toggleable__label-arrow:before {color: black;}#sk-container-id-1 div.sk-toggleable__content {max-height: 0;max-width: 0;overflow: hidden;text-align: left;background-color: #f0f8ff;}#sk-container-id-1 div.sk-toggleable__content pre {margin: 0.2em;color: black;border-radius: 0.25em;background-color: #f0f8ff;}#sk-container-id-1 input.sk-toggleable__control:checked~div.sk-toggleable__content {max-height: 200px;max-width: 100%;overflow: auto;}#sk-container-id-1 input.sk-toggleable__control:checked~label.sk-toggleable__label-arrow:before {content: \"▾\";}#sk-container-id-1 div.sk-estimator input.sk-toggleable__control:checked~label.sk-toggleable__label {background-color: #d4ebff;}#sk-container-id-1 div.sk-label input.sk-toggleable__control:checked~label.sk-toggleable__label {background-color: #d4ebff;}#sk-container-id-1 input.sk-hidden--visually {border: 0;clip: rect(1px 1px 1px 1px);clip: rect(1px, 1px, 1px, 1px);height: 1px;margin: -1px;overflow: hidden;padding: 0;position: absolute;width: 1px;}#sk-container-id-1 div.sk-estimator {font-family: monospace;background-color: #f0f8ff;border: 1px dotted black;border-radius: 0.25em;box-sizing: border-box;margin-bottom: 0.5em;}#sk-container-id-1 div.sk-estimator:hover {background-color: #d4ebff;}#sk-container-id-1 div.sk-parallel-item::after {content: \"\";width: 100%;border-bottom: 1px solid gray;flex-grow: 1;}#sk-container-id-1 div.sk-label:hover label.sk-toggleable__label {background-color: #d4ebff;}#sk-container-id-1 div.sk-serial::before {content: \"\";position: absolute;border-left: 1px solid gray;box-sizing: border-box;top: 0;bottom: 0;left: 50%;z-index: 0;}#sk-container-id-1 div.sk-serial {display: flex;flex-direction: column;align-items: center;background-color: white;padding-right: 0.2em;padding-left: 0.2em;position: relative;}#sk-container-id-1 div.sk-item {position: relative;z-index: 1;}#sk-container-id-1 div.sk-parallel {display: flex;align-items: stretch;justify-content: center;background-color: white;position: relative;}#sk-container-id-1 div.sk-item::before, #sk-container-id-1 div.sk-parallel-item::before {content: \"\";position: absolute;border-left: 1px solid gray;box-sizing: border-box;top: 0;bottom: 0;left: 50%;z-index: -1;}#sk-container-id-1 div.sk-parallel-item {display: flex;flex-direction: column;z-index: 1;position: relative;background-color: white;}#sk-container-id-1 div.sk-parallel-item:first-child::after {align-self: flex-end;width: 50%;}#sk-container-id-1 div.sk-parallel-item:last-child::after {align-self: flex-start;width: 50%;}#sk-container-id-1 div.sk-parallel-item:only-child::after {width: 0;}#sk-container-id-1 div.sk-dashed-wrapped {border: 1px dashed gray;margin: 0 0.4em 0.5em 0.4em;box-sizing: border-box;padding-bottom: 0.4em;background-color: white;}#sk-container-id-1 div.sk-label label {font-family: monospace;font-weight: bold;display: inline-block;line-height: 1.2em;}#sk-container-id-1 div.sk-label-container {text-align: center;}#sk-container-id-1 div.sk-container {/* jupyter's `normalize.less` sets `[hidden] { display: none; }` but bootstrap.min.css set `[hidden] { display: none !important; }` so we also need the `!important` here to be able to override the default hidden behavior on the sphinx rendered scikit-learn.org. See: https://github.com/scikit-learn/scikit-learn/issues/21755 */display: inline-block !important;position: relative;}#sk-container-id-1 div.sk-text-repr-fallback {display: none;}</style><div id=\"sk-container-id-1\" class=\"sk-top-container\"><div class=\"sk-text-repr-fallback\"><pre>KNeighborsClassifier()</pre><b>In a Jupyter environment, please rerun this cell to show the HTML representation or trust the notebook. <br />On GitHub, the HTML representation is unable to render, please try loading this page with nbviewer.org.</b></div><div class=\"sk-container\" hidden><div class=\"sk-item\"><div class=\"sk-estimator sk-toggleable\"><input class=\"sk-toggleable__control sk-hidden--visually\" id=\"sk-estimator-id-1\" type=\"checkbox\" checked><label for=\"sk-estimator-id-1\" class=\"sk-toggleable__label sk-toggleable__label-arrow\">KNeighborsClassifier</label><div class=\"sk-toggleable__content\"><pre>KNeighborsClassifier()</pre></div></div></div></div></div>"
      ],
      "text/plain": [
       "KNeighborsClassifier()"
      ]
     },
     "execution_count": 5,
     "metadata": {},
     "output_type": "execute_result"
    }
   ],
   "source": [
    "from sklearn.neighbors import KNeighborsClassifier\n",
    "\n",
    "# Create a KNN classifier\n",
    "knn = KNeighborsClassifier(n_neighbors=5)  # You can adjust the value of k\n",
    "\n",
    "# Train the classifier\n",
    "knn.fit(X_train, y_train)  # X_train: feature vectors, y_train: corresponding labels\n"
   ]
  },
  {
   "cell_type": "code",
   "execution_count": 6,
   "id": "11f50b42-afb9-4bd9-9994-c2d6c59e543b",
   "metadata": {
    "tags": []
   },
   "outputs": [
    {
     "name": "stdout",
     "output_type": "stream",
     "text": [
      "Accuracy: 0.3333333333333333\n",
      "Classification Report:\n",
      "               precision    recall  f1-score   support\n",
      "\n",
      "  belly_pain       0.50      0.33      0.40         3\n",
      "     burping       0.00      0.00      0.00         1\n",
      "  discomfort       0.50      0.25      0.33         4\n",
      "      hungry       0.20      1.00      0.33         1\n",
      "       tired       0.33      0.33      0.33         3\n",
      "\n",
      "    accuracy                           0.33        12\n",
      "   macro avg       0.31      0.38      0.28        12\n",
      "weighted avg       0.39      0.33      0.32        12\n",
      "\n"
     ]
    },
    {
     "name": "stderr",
     "output_type": "stream",
     "text": [
      "/usr/local/lib/python3.8/dist-packages/sklearn/metrics/_classification.py:1469: UndefinedMetricWarning: Precision and F-score are ill-defined and being set to 0.0 in labels with no predicted samples. Use `zero_division` parameter to control this behavior.\n",
      "  _warn_prf(average, modifier, msg_start, len(result))\n",
      "/usr/local/lib/python3.8/dist-packages/sklearn/metrics/_classification.py:1469: UndefinedMetricWarning: Precision and F-score are ill-defined and being set to 0.0 in labels with no predicted samples. Use `zero_division` parameter to control this behavior.\n",
      "  _warn_prf(average, modifier, msg_start, len(result))\n",
      "/usr/local/lib/python3.8/dist-packages/sklearn/metrics/_classification.py:1469: UndefinedMetricWarning: Precision and F-score are ill-defined and being set to 0.0 in labels with no predicted samples. Use `zero_division` parameter to control this behavior.\n",
      "  _warn_prf(average, modifier, msg_start, len(result))\n"
     ]
    }
   ],
   "source": [
    "from sklearn.metrics import accuracy_score, classification_report\n",
    "\n",
    "# Make predictions on the test set\n",
    "y_pred = knn.predict(X_test)  # X_test: feature vectors of the test data\n",
    "\n",
    "# Evaluate the model\n",
    "accuracy = accuracy_score(y_test, y_pred)\n",
    "report = classification_report(y_test, y_pred)\n",
    "\n",
    "print(\"Accuracy:\", accuracy)\n",
    "print(\"Classification Report:\\n\", report)\n"
   ]
  },
  {
   "cell_type": "code",
   "execution_count": 7,
   "id": "2efa3735-eb8e-47cb-9100-468486324969",
   "metadata": {
    "tags": []
   },
   "outputs": [
    {
     "name": "stdout",
     "output_type": "stream",
     "text": [
      "[0.20833333 0.33333333 0.375      0.54166667 0.33333333]\n",
      "cv_scores mean:0.3583333333333333\n"
     ]
    }
   ],
   "source": [
    "from sklearn.model_selection import cross_val_score\n",
    "import numpy as np\n",
    "\n",
    "#create a new KNN model\n",
    "knn_cv = KNeighborsClassifier(n_neighbors=3)\n",
    "\n",
    "#train model with cv of 5 \n",
    "cv_scores = cross_val_score(knn_cv, X, y, cv=5)\n",
    "\n",
    "#print each cv score (accuracy) and average them\n",
    "print(cv_scores)\n",
    "print('cv_scores mean:{}'.format(np.mean(cv_scores)))"
   ]
  },
  {
   "cell_type": "markdown",
   "id": "7adc7da3-79df-453c-b4c5-e0c70a1cbb4f",
   "metadata": {},
   "source": [
    "## Gridsearch CV"
   ]
  },
  {
   "cell_type": "code",
   "execution_count": 8,
   "id": "bdfff9f3-b3c9-4af7-a777-5be9bca35d7b",
   "metadata": {
    "tags": []
   },
   "outputs": [
    {
     "data": {
      "text/html": [
       "<style>#sk-container-id-2 {color: black;}#sk-container-id-2 pre{padding: 0;}#sk-container-id-2 div.sk-toggleable {background-color: white;}#sk-container-id-2 label.sk-toggleable__label {cursor: pointer;display: block;width: 100%;margin-bottom: 0;padding: 0.3em;box-sizing: border-box;text-align: center;}#sk-container-id-2 label.sk-toggleable__label-arrow:before {content: \"▸\";float: left;margin-right: 0.25em;color: #696969;}#sk-container-id-2 label.sk-toggleable__label-arrow:hover:before {color: black;}#sk-container-id-2 div.sk-estimator:hover label.sk-toggleable__label-arrow:before {color: black;}#sk-container-id-2 div.sk-toggleable__content {max-height: 0;max-width: 0;overflow: hidden;text-align: left;background-color: #f0f8ff;}#sk-container-id-2 div.sk-toggleable__content pre {margin: 0.2em;color: black;border-radius: 0.25em;background-color: #f0f8ff;}#sk-container-id-2 input.sk-toggleable__control:checked~div.sk-toggleable__content {max-height: 200px;max-width: 100%;overflow: auto;}#sk-container-id-2 input.sk-toggleable__control:checked~label.sk-toggleable__label-arrow:before {content: \"▾\";}#sk-container-id-2 div.sk-estimator input.sk-toggleable__control:checked~label.sk-toggleable__label {background-color: #d4ebff;}#sk-container-id-2 div.sk-label input.sk-toggleable__control:checked~label.sk-toggleable__label {background-color: #d4ebff;}#sk-container-id-2 input.sk-hidden--visually {border: 0;clip: rect(1px 1px 1px 1px);clip: rect(1px, 1px, 1px, 1px);height: 1px;margin: -1px;overflow: hidden;padding: 0;position: absolute;width: 1px;}#sk-container-id-2 div.sk-estimator {font-family: monospace;background-color: #f0f8ff;border: 1px dotted black;border-radius: 0.25em;box-sizing: border-box;margin-bottom: 0.5em;}#sk-container-id-2 div.sk-estimator:hover {background-color: #d4ebff;}#sk-container-id-2 div.sk-parallel-item::after {content: \"\";width: 100%;border-bottom: 1px solid gray;flex-grow: 1;}#sk-container-id-2 div.sk-label:hover label.sk-toggleable__label {background-color: #d4ebff;}#sk-container-id-2 div.sk-serial::before {content: \"\";position: absolute;border-left: 1px solid gray;box-sizing: border-box;top: 0;bottom: 0;left: 50%;z-index: 0;}#sk-container-id-2 div.sk-serial {display: flex;flex-direction: column;align-items: center;background-color: white;padding-right: 0.2em;padding-left: 0.2em;position: relative;}#sk-container-id-2 div.sk-item {position: relative;z-index: 1;}#sk-container-id-2 div.sk-parallel {display: flex;align-items: stretch;justify-content: center;background-color: white;position: relative;}#sk-container-id-2 div.sk-item::before, #sk-container-id-2 div.sk-parallel-item::before {content: \"\";position: absolute;border-left: 1px solid gray;box-sizing: border-box;top: 0;bottom: 0;left: 50%;z-index: -1;}#sk-container-id-2 div.sk-parallel-item {display: flex;flex-direction: column;z-index: 1;position: relative;background-color: white;}#sk-container-id-2 div.sk-parallel-item:first-child::after {align-self: flex-end;width: 50%;}#sk-container-id-2 div.sk-parallel-item:last-child::after {align-self: flex-start;width: 50%;}#sk-container-id-2 div.sk-parallel-item:only-child::after {width: 0;}#sk-container-id-2 div.sk-dashed-wrapped {border: 1px dashed gray;margin: 0 0.4em 0.5em 0.4em;box-sizing: border-box;padding-bottom: 0.4em;background-color: white;}#sk-container-id-2 div.sk-label label {font-family: monospace;font-weight: bold;display: inline-block;line-height: 1.2em;}#sk-container-id-2 div.sk-label-container {text-align: center;}#sk-container-id-2 div.sk-container {/* jupyter's `normalize.less` sets `[hidden] { display: none; }` but bootstrap.min.css set `[hidden] { display: none !important; }` so we also need the `!important` here to be able to override the default hidden behavior on the sphinx rendered scikit-learn.org. See: https://github.com/scikit-learn/scikit-learn/issues/21755 */display: inline-block !important;position: relative;}#sk-container-id-2 div.sk-text-repr-fallback {display: none;}</style><div id=\"sk-container-id-2\" class=\"sk-top-container\"><div class=\"sk-text-repr-fallback\"><pre>GridSearchCV(cv=5, estimator=KNeighborsClassifier(),\n",
       "             param_grid={&#x27;n_neighbors&#x27;: array([ 1,  2,  3,  4,  5,  6,  7,  8,  9, 10, 11, 12, 13, 14, 15, 16, 17,\n",
       "       18, 19, 20, 21, 22, 23, 24])})</pre><b>In a Jupyter environment, please rerun this cell to show the HTML representation or trust the notebook. <br />On GitHub, the HTML representation is unable to render, please try loading this page with nbviewer.org.</b></div><div class=\"sk-container\" hidden><div class=\"sk-item sk-dashed-wrapped\"><div class=\"sk-label-container\"><div class=\"sk-label sk-toggleable\"><input class=\"sk-toggleable__control sk-hidden--visually\" id=\"sk-estimator-id-2\" type=\"checkbox\" ><label for=\"sk-estimator-id-2\" class=\"sk-toggleable__label sk-toggleable__label-arrow\">GridSearchCV</label><div class=\"sk-toggleable__content\"><pre>GridSearchCV(cv=5, estimator=KNeighborsClassifier(),\n",
       "             param_grid={&#x27;n_neighbors&#x27;: array([ 1,  2,  3,  4,  5,  6,  7,  8,  9, 10, 11, 12, 13, 14, 15, 16, 17,\n",
       "       18, 19, 20, 21, 22, 23, 24])})</pre></div></div></div><div class=\"sk-parallel\"><div class=\"sk-parallel-item\"><div class=\"sk-item\"><div class=\"sk-label-container\"><div class=\"sk-label sk-toggleable\"><input class=\"sk-toggleable__control sk-hidden--visually\" id=\"sk-estimator-id-3\" type=\"checkbox\" ><label for=\"sk-estimator-id-3\" class=\"sk-toggleable__label sk-toggleable__label-arrow\">estimator: KNeighborsClassifier</label><div class=\"sk-toggleable__content\"><pre>KNeighborsClassifier()</pre></div></div></div><div class=\"sk-serial\"><div class=\"sk-item\"><div class=\"sk-estimator sk-toggleable\"><input class=\"sk-toggleable__control sk-hidden--visually\" id=\"sk-estimator-id-4\" type=\"checkbox\" ><label for=\"sk-estimator-id-4\" class=\"sk-toggleable__label sk-toggleable__label-arrow\">KNeighborsClassifier</label><div class=\"sk-toggleable__content\"><pre>KNeighborsClassifier()</pre></div></div></div></div></div></div></div></div></div></div>"
      ],
      "text/plain": [
       "GridSearchCV(cv=5, estimator=KNeighborsClassifier(),\n",
       "             param_grid={'n_neighbors': array([ 1,  2,  3,  4,  5,  6,  7,  8,  9, 10, 11, 12, 13, 14, 15, 16, 17,\n",
       "       18, 19, 20, 21, 22, 23, 24])})"
      ]
     },
     "execution_count": 8,
     "metadata": {},
     "output_type": "execute_result"
    }
   ],
   "source": [
    "\n",
    "\n",
    "from sklearn.model_selection import GridSearchCV\n",
    "\n",
    "#create new a knn model\n",
    "knn2 = KNeighborsClassifier()\n",
    "\n",
    "#create a dictionary of all values we want to test for n_neighbors\n",
    "param_grid = {'n_neighbors': np.arange(1, 25)}\n",
    "\n",
    "#use gridsearch to test all values for n_neighbors\n",
    "knn_gscv = GridSearchCV(knn2, param_grid, cv=5)\n",
    "\n",
    "#fit model to data\n",
    "knn_gscv.fit(X, y)\n",
    "\n"
   ]
  },
  {
   "cell_type": "code",
   "execution_count": 9,
   "id": "9968b2a0-c738-41ad-8906-402a8db27ea8",
   "metadata": {
    "tags": []
   },
   "outputs": [
    {
     "data": {
      "text/plain": [
       "{'n_neighbors': 12}"
      ]
     },
     "execution_count": 9,
     "metadata": {},
     "output_type": "execute_result"
    }
   ],
   "source": [
    "knn_gscv.best_params_"
   ]
  },
  {
   "cell_type": "code",
   "execution_count": 10,
   "id": "802ff894-2512-41f8-98dc-3ac1a0a3f7dd",
   "metadata": {
    "tags": []
   },
   "outputs": [
    {
     "data": {
      "text/plain": [
       "0.39166666666666666"
      ]
     },
     "execution_count": 10,
     "metadata": {},
     "output_type": "execute_result"
    }
   ],
   "source": [
    "knn_gscv.best_score_"
   ]
  },
  {
   "cell_type": "code",
   "execution_count": 11,
   "id": "dfa11cf8-eeb1-400b-9a93-907994280d6e",
   "metadata": {
    "tags": []
   },
   "outputs": [
    {
     "name": "stdout",
     "output_type": "stream",
     "text": [
      "Accuracy: 0.5833333333333334\n",
      "Classification Report:\n",
      "               precision    recall  f1-score   support\n",
      "\n",
      "  belly_pain       0.50      0.33      0.40         3\n",
      "     burping       0.00      0.00      0.00         1\n",
      "  discomfort       1.00      0.75      0.86         4\n",
      "      hungry       0.25      1.00      0.40         1\n",
      "       tired       0.67      0.67      0.67         3\n",
      "\n",
      "    accuracy                           0.58        12\n",
      "   macro avg       0.48      0.55      0.46        12\n",
      "weighted avg       0.65      0.58      0.59        12\n",
      "\n"
     ]
    },
    {
     "name": "stderr",
     "output_type": "stream",
     "text": [
      "/usr/local/lib/python3.8/dist-packages/sklearn/metrics/_classification.py:1469: UndefinedMetricWarning: Precision and F-score are ill-defined and being set to 0.0 in labels with no predicted samples. Use `zero_division` parameter to control this behavior.\n",
      "  _warn_prf(average, modifier, msg_start, len(result))\n",
      "/usr/local/lib/python3.8/dist-packages/sklearn/metrics/_classification.py:1469: UndefinedMetricWarning: Precision and F-score are ill-defined and being set to 0.0 in labels with no predicted samples. Use `zero_division` parameter to control this behavior.\n",
      "  _warn_prf(average, modifier, msg_start, len(result))\n",
      "/usr/local/lib/python3.8/dist-packages/sklearn/metrics/_classification.py:1469: UndefinedMetricWarning: Precision and F-score are ill-defined and being set to 0.0 in labels with no predicted samples. Use `zero_division` parameter to control this behavior.\n",
      "  _warn_prf(average, modifier, msg_start, len(result))\n"
     ]
    }
   ],
   "source": [
    "from sklearn.metrics import accuracy_score, classification_report\n",
    "\n",
    "# Make predictions on the test set\n",
    "y_pred = knn_gscv.predict(X_test)  # X_test: feature vectors of the test data\n",
    "\n",
    "# Evaluate the model\n",
    "accuracy = accuracy_score(y_test, y_pred)\n",
    "report = classification_report(y_test, y_pred)\n",
    "\n",
    "print(\"Accuracy:\", accuracy)\n",
    "print(\"Classification Report:\\n\", report)"
   ]
  },
  {
   "cell_type": "markdown",
   "id": "f68b4801-503f-43cc-b949-5858e77b0f74",
   "metadata": {
    "tags": []
   },
   "source": [
    "## Stratified K cross validation"
   ]
  },
  {
   "cell_type": "code",
   "execution_count": 19,
   "id": "d338a2be-e92d-4842-b4bd-bebc2e229129",
   "metadata": {
    "tags": []
   },
   "outputs": [
    {
     "name": "stdout",
     "output_type": "stream",
     "text": [
      "StratifiedKFold(n_splits=3, random_state=None, shuffle=False)\n",
      "Fold 0:\n"
     ]
    },
    {
     "name": "stderr",
     "output_type": "stream",
     "text": [
      "/usr/local/lib/python3.8/dist-packages/sklearn/metrics/_classification.py:1469: UndefinedMetricWarning: Precision and F-score are ill-defined and being set to 0.0 in labels with no predicted samples. Use `zero_division` parameter to control this behavior.\n",
      "  _warn_prf(average, modifier, msg_start, len(result))\n",
      "/usr/local/lib/python3.8/dist-packages/sklearn/metrics/_classification.py:1469: UndefinedMetricWarning: Precision and F-score are ill-defined and being set to 0.0 in labels with no predicted samples. Use `zero_division` parameter to control this behavior.\n",
      "  _warn_prf(average, modifier, msg_start, len(result))\n",
      "/usr/local/lib/python3.8/dist-packages/sklearn/metrics/_classification.py:1469: UndefinedMetricWarning: Precision and F-score are ill-defined and being set to 0.0 in labels with no predicted samples. Use `zero_division` parameter to control this behavior.\n",
      "  _warn_prf(average, modifier, msg_start, len(result))\n"
     ]
    },
    {
     "name": "stdout",
     "output_type": "stream",
     "text": [
      "Accuracy: 0.25\n",
      "Classification Report:\n",
      "               precision    recall  f1-score   support\n",
      "\n",
      "  belly_pain       0.40      0.33      0.36         6\n",
      "     burping       0.00      0.00      0.00         2\n",
      "  discomfort       0.13      0.22      0.17         9\n",
      "      hungry       0.33      0.33      0.33        15\n",
      "       tired       0.20      0.12      0.15         8\n",
      "\n",
      "    accuracy                           0.25        40\n",
      "   macro avg       0.21      0.20      0.20        40\n",
      "weighted avg       0.26      0.25      0.25        40\n",
      "\n",
      "Fold 1:\n"
     ]
    },
    {
     "name": "stderr",
     "output_type": "stream",
     "text": [
      "/usr/local/lib/python3.8/dist-packages/sklearn/metrics/_classification.py:1469: UndefinedMetricWarning: Precision and F-score are ill-defined and being set to 0.0 in labels with no predicted samples. Use `zero_division` parameter to control this behavior.\n",
      "  _warn_prf(average, modifier, msg_start, len(result))\n",
      "/usr/local/lib/python3.8/dist-packages/sklearn/metrics/_classification.py:1469: UndefinedMetricWarning: Precision and F-score are ill-defined and being set to 0.0 in labels with no predicted samples. Use `zero_division` parameter to control this behavior.\n",
      "  _warn_prf(average, modifier, msg_start, len(result))\n",
      "/usr/local/lib/python3.8/dist-packages/sklearn/metrics/_classification.py:1469: UndefinedMetricWarning: Precision and F-score are ill-defined and being set to 0.0 in labels with no predicted samples. Use `zero_division` parameter to control this behavior.\n",
      "  _warn_prf(average, modifier, msg_start, len(result))\n"
     ]
    },
    {
     "name": "stdout",
     "output_type": "stream",
     "text": [
      "Accuracy: 0.275\n",
      "Classification Report:\n",
      "               precision    recall  f1-score   support\n",
      "\n",
      "  belly_pain       0.50      0.20      0.29         5\n",
      "     burping       0.00      0.00      0.00         3\n",
      "  discomfort       0.12      0.11      0.12         9\n",
      "      hungry       0.29      0.47      0.36        15\n",
      "       tired       0.33      0.25      0.29         8\n",
      "\n",
      "    accuracy                           0.28        40\n",
      "   macro avg       0.25      0.21      0.21        40\n",
      "weighted avg       0.27      0.28      0.25        40\n",
      "\n",
      "Fold 2:\n",
      "Accuracy: 0.35\n",
      "Classification Report:\n",
      "               precision    recall  f1-score   support\n",
      "\n",
      "  belly_pain       0.10      0.20      0.13         5\n",
      "     burping       0.00      0.00      0.00         3\n",
      "  discomfort       1.00      0.22      0.36         9\n",
      "      hungry       0.39      0.60      0.47        15\n",
      "       tired       0.40      0.25      0.31         8\n",
      "\n",
      "    accuracy                           0.35        40\n",
      "   macro avg       0.38      0.25      0.26        40\n",
      "weighted avg       0.46      0.35      0.34        40\n",
      "\n"
     ]
    },
    {
     "name": "stderr",
     "output_type": "stream",
     "text": [
      "/usr/local/lib/python3.8/dist-packages/sklearn/metrics/_classification.py:1469: UndefinedMetricWarning: Precision and F-score are ill-defined and being set to 0.0 in labels with no predicted samples. Use `zero_division` parameter to control this behavior.\n",
      "  _warn_prf(average, modifier, msg_start, len(result))\n",
      "/usr/local/lib/python3.8/dist-packages/sklearn/metrics/_classification.py:1469: UndefinedMetricWarning: Precision and F-score are ill-defined and being set to 0.0 in labels with no predicted samples. Use `zero_division` parameter to control this behavior.\n",
      "  _warn_prf(average, modifier, msg_start, len(result))\n",
      "/usr/local/lib/python3.8/dist-packages/sklearn/metrics/_classification.py:1469: UndefinedMetricWarning: Precision and F-score are ill-defined and being set to 0.0 in labels with no predicted samples. Use `zero_division` parameter to control this behavior.\n",
      "  _warn_prf(average, modifier, msg_start, len(result))\n"
     ]
    }
   ],
   "source": [
    "import numpy as np\n",
    "from sklearn.model_selection import StratifiedKFold\n",
    "\n",
    "skf = StratifiedKFold(n_splits=3)\n",
    "skf.get_n_splits(X, y)\n",
    "print(skf)\n",
    "for i, (train_index, test_index) in enumerate(skf.split(X, y)):\n",
    "    print(f\"Fold {i}:\")\n",
    "    # print(f\"  Train: index={train_index}\")\n",
    "    # print(f\"  Test:  index={test_index}\")\n",
    "    X_train = X.loc[train_index]\n",
    "    X_test = X.loc[test_index]\n",
    "    y_train = y.loc[train_index]\n",
    "    y_test = y.loc[test_index]\n",
    "    knn_gscv.fit(X_train,y_train) \n",
    "    \n",
    "    # Make predictions on the test set\n",
    "    y_pred = knn_gscv.predict(X_test)  # X_test: feature vectors of the test data\n",
    "\n",
    "    # Evaluate the model\n",
    "    accuracy = accuracy_score(y_test, y_pred)\n",
    "    report = classification_report(y_test, y_pred)\n",
    "\n",
    "    print(\"Accuracy:\", accuracy)\n",
    "    print(\"Classification Report:\\n\", report)\n",
    "    "
   ]
  }
 ],
 "metadata": {
  "kernelspec": {
   "display_name": "Python 3 (ipykernel)",
   "language": "python",
   "name": "python3"
  },
  "language_info": {
   "codemirror_mode": {
    "name": "ipython",
    "version": 3
   },
   "file_extension": ".py",
   "mimetype": "text/x-python",
   "name": "python",
   "nbconvert_exporter": "python",
   "pygments_lexer": "ipython3",
   "version": "3.8.10"
  }
 },
 "nbformat": 4,
 "nbformat_minor": 5
}
